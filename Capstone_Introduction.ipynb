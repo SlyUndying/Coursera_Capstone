{
    "nbformat_minor": 2, 
    "cells": [
        {
            "source": "# IBM Applied Data Science\n\n", 
            "cell_type": "markdown", 
            "metadata": {}
        }, 
        {
            "source": "## I. Project description: \n### 1. Introduction:\n \nNew York is famous worldwide as the finance centre and popular tourist destination in North America. There is no surprise the real estate market there is one of the priciest. It's where a penthouse at the new Peter Marino-designed flat The Getty, steps from the High Line, is sold for \\\\$50 million \nA quick search can show us the real estate price can vary by a large margin from neighbourhoods to neighbourhoods.  2-bedrooms flat in Central Park West, Upper West Side can cost \\\\$4.90 million on average. While in Inwood, Upper Manhattan, just 30 minutes away, it's only \\\\$490 thousand.  \n  \nHow can aspects of a neighbourhood affect the price of real estates to such extent? One hypothesis is that the surrounding venues can be a deciding factor.   \nCan the venues surrounding accommodation affect its price? And what kind of venues can affect the most? And by what weight? ", 
            "cell_type": "markdown", 
            "metadata": {}
        }, 
        {
            "source": "### 2. The problem to solve:\nThis project will explore the neighbourhoods of New York City to provide insight:\n1. Can surrounding venues affect the price of real estates?  \n2. What kind of surrounding places, and to what extent, affect the cost?  \n3. Can we use the surrounding venue to estimate the value of accommodation over the average price of one area? And to what degree of confidence? \n  \nThe result can be useful for home buyers, which can roughly estimate the value of a target house over the average.  ", 
            "cell_type": "markdown", 
            "metadata": {}
        }, 
        {
            "source": "## II. Data description\nThe main data used for this project will be from two sources:\n- The average price by neighbourhoods in New York City. ([CityRealty](https://www.cityrealty.com/nyc/market-insight/features/get-to-know/average-nyc-condo-prices-neighborhood-june-2018/18804))\n- The venues in each neighbourhood. ([FourSquare API](https://developer.foursquare.com/))  \n  \nOther supporting data:\n- Coordinates ([Geocoder Python](https://geocoder.readthedocs.io/index.html))\n- GeoJson ([http://data.beta.nyc](http://data.beta.nyc//dataset/0ff93d2d-90ba-457c-9f7e-39e47bf2ac5f/resource/35dd04fb-81b3-479b-a074-a27a37888ce7/download/d085e2f8d0b54d4590b1e7d1f35594c1pediacitiesnycneighborhoods.geojson))  \n\nThis project will only consider the average price of 2-bedrooms condo, which is a common type of real estate among ordinary families.", 
            "cell_type": "markdown", 
            "metadata": {}
        }, 
        {
            "source": "### 1. Data collection \n- The average price will be web-scrapped from the CityRealty website.\n- For each neighbourhood, call Geocoder Python to get its coordinate.\n- For each neighbourhood's coordinate, call FourSquare API to get the surrounding venues.  \n- Count the occurrences of each venue type and attach that information to each neighbourhood.\n\nThe output of the data collecting process will be a two dimensions data frame:\n- Each row represents a neighbourhood.\n- Each column will be the count of one type of venue in that neighbourhood.\n- The last column will be the average 2-bedroom flat price of that neighbourhood.", 
            "cell_type": "markdown", 
            "metadata": {}
        }, 
        {
            "source": "### 2. Using data to solve the problem  \n- First, the correlation between price and surrounding venues will be check\n- Second, if correlated, machine learning techniques (PCA, Regression, PCR) will be used to analyze the data. The output will be a list of venues types that affect the most in price, along with their weight on the result.", 
            "cell_type": "markdown", 
            "metadata": {}
        }, 
        {
            "execution_count": null, 
            "cell_type": "code", 
            "metadata": {}, 
            "outputs": [], 
            "source": ""
        }
    ], 
    "metadata": {
        "kernelspec": {
            "display_name": "Python 3.6", 
            "name": "python3", 
            "language": "python"
        }, 
        "language_info": {
            "mimetype": "text/x-python", 
            "nbconvert_exporter": "python", 
            "version": "3.6.8", 
            "name": "python", 
            "file_extension": ".py", 
            "pygments_lexer": "ipython3", 
            "codemirror_mode": {
                "version": 3, 
                "name": "ipython"
            }
        }
    }, 
    "nbformat": 4
}